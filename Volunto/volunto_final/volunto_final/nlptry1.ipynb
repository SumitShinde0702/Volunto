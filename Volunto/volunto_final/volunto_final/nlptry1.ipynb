{
 "cells": [
  {
   "cell_type": "code",
   "execution_count": 2,
   "id": "dd6ca8bd",
   "metadata": {},
   "outputs": [
    {
     "name": "stdout",
     "output_type": "stream",
     "text": [
      "Requirement already satisfied: nltk in c:\\users\\sumit\\anaconda3\\lib\\site-packages (3.8.1)\n",
      "Requirement already satisfied: click in c:\\users\\sumit\\anaconda3\\lib\\site-packages (from nltk) (8.0.4)\n",
      "Requirement already satisfied: joblib in c:\\users\\sumit\\anaconda3\\lib\\site-packages (from nltk) (1.2.0)\n",
      "Requirement already satisfied: regex>=2021.8.3 in c:\\users\\sumit\\anaconda3\\lib\\site-packages (from nltk) (2022.7.9)\n",
      "Requirement already satisfied: tqdm in c:\\users\\sumit\\anaconda3\\lib\\site-packages (from nltk) (4.65.0)\n",
      "Requirement already satisfied: colorama in c:\\users\\sumit\\anaconda3\\lib\\site-packages (from click->nltk) (0.4.6)\n",
      "Note: you may need to restart the kernel to use updated packages.\n"
     ]
    }
   ],
   "source": [
    "pip install nltk"
   ]
  },
  {
   "cell_type": "code",
   "execution_count": 19,
   "id": "b7e74e61",
   "metadata": {},
   "outputs": [
    {
     "name": "stdout",
     "output_type": "stream",
     "text": [
      "Kenneth Prajogo and Gong Yongjia do not have similar interests (similarity score: 0.00)\n"
     ]
    },
    {
     "name": "stderr",
     "output_type": "stream",
     "text": [
      "[nltk_data] Downloading package punkt to\n",
      "[nltk_data]     C:\\Users\\sumit\\AppData\\Roaming\\nltk_data...\n",
      "[nltk_data]   Package punkt is already up-to-date!\n",
      "[nltk_data] Downloading package stopwords to\n",
      "[nltk_data]     C:\\Users\\sumit\\AppData\\Roaming\\nltk_data...\n",
      "[nltk_data]   Package stopwords is already up-to-date!\n"
     ]
    }
   ],
   "source": [
    "from nltk.tokenize import word_tokenize\n",
    "from nltk.corpus import stopwords\n",
    "from nltk import download\n",
    "\n",
    "download('punkt')\n",
    "download('stopwords')\n",
    "\n",
    "def preprocess_text(text):\n",
    "    if isinstance(text, list):\n",
    "        text = ' '.join(text)\n",
    "    tokens = word_tokenize(text)\n",
    "    stop_words = set(stopwords.words('english'))\n",
    "    tokens = [word for word in tokens if word.lower() not in stop_words]\n",
    "    return tokens\n",
    "\n",
    "def calculate_similarity(tokens1, tokens2):\n",
    "    # Your similarity calculation logic here\n",
    "    # This could involve techniques like Jaccard similarity, cosine similarity, etc.\n",
    "    # For simplicity, let's assume Jaccard similarity for demonstration purposes\n",
    "    intersection = len(set(tokens1) & set(tokens2))\n",
    "    union = len(set(tokens1) | set(tokens2))\n",
    "    similarity = intersection / union if union != 0 else 0\n",
    "    return similarity\n",
    "\n",
    "# Example usage:\n",
    "i = 0\n",
    "j = 1\n",
    "\n",
    "name1, interests1 = individuals[i]['name'], individuals[i]['interests']\n",
    "name2, interests2 = individuals[j]['name'], individuals[j]['interests']\n",
    "\n",
    "# Preprocess the interests\n",
    "tokens1 = preprocess_text(interests1)\n",
    "tokens2 = preprocess_text(interests2)\n",
    "\n",
    "# Calculate similarity\n",
    "similarity_score = calculate_similarity(tokens1, tokens2)\n",
    "\n",
    "# Define a threshold for similarity\n",
    "threshold = 0.8\n",
    "\n",
    "# Check if similarity score is above the threshold\n",
    "if similarity_score >= threshold:\n",
    "    print(f\"{name1} and {name2} have similar interests with a similarity score of {similarity_score:.2f}\")\n",
    "else:\n",
    "    print(f\"{name1} and {name2} do not have similar interests (similarity score: {similarity_score:.2f})\")"
   ]
  },
  {
   "cell_type": "code",
   "execution_count": 6,
   "id": "474dcb3f",
   "metadata": {},
   "outputs": [],
   "source": []
  },
  {
   "cell_type": "code",
   "execution_count": 20,
   "id": "a00176e9",
   "metadata": {},
   "outputs": [],
   "source": [
    "from sklearn.feature_extraction.text import CountVectorizer\n",
    "from sklearn.metrics.pairwise import cosine_similarity\n",
    "\n",
    "# Example function to calculate cosine similarity\n",
    "def calculate_similarity(interests1, interests2):\n",
    "    vectorizer = CountVectorizer().fit_transform([interests1, interests2])\n",
    "    vectors = vectorizer.toarray()\n",
    "    return cosine_similarity(vectors)[0, 1]"
   ]
  },
  {
   "cell_type": "code",
   "execution_count": 21,
   "id": "ef3c8090",
   "metadata": {},
   "outputs": [],
   "source": [
    "individuals = [\n",
    "    {\n",
    "        'role': 'Volunteer',\n",
    "        'name': 'Kenneth Prajogo',\n",
    "        'age': 22,\n",
    "        'gender': 'Male',\n",
    "        'preferences': 'No preferences',\n",
    "        'activities': 'Befriending with elderly',\n",
    "        'interests': ['Chess', 'sports', 'football', 'cooking'],\n",
    "        'languages': ['English', 'Mandarin', 'Bahasa Indonesia'],\n",
    "        'availability': {'Friday': ['0800 - 1200', '1200 - 1600'], 'Saturday': ['0800 - 1200', '1200 - 1600']}\n",
    "    },\n",
    "    {\n",
    "        'role': 'Volunteer',\n",
    "        'name': 'Gong Yongjia',\n",
    "        'age': 19,\n",
    "        'gender': 'Female',\n",
    "        'preferences': 'No preferences',\n",
    "        'activities': 'Both',\n",
    "        'education_level': 'Primary',\n",
    "        'subjects': ['Math'],\n",
    "        'interests': ['Watching Shows'],\n",
    "        'languages': ['English', 'Mandarin'],\n",
    "        'availability': {'Saturday': ['0800 - 1200', '1200 - 1600'], 'Sunday': ['0800 - 1200', '1200 - 1600']}\n",
    "    },\n",
    "    {\n",
    "        'role': 'Beneficiary',\n",
    "        'name': 'Sumit',\n",
    "        'age': 12,\n",
    "        'days_available': ['Saturday', 'Sunday'],\n",
    "        'availability': ['0800 - 1200', '1600 - 2000'],\n",
    "        'goal': 'To be a tutee',\n",
    "        'education_level': 'Primary',\n",
    "        'subjects': ['Math', 'English']\n",
    "    },\n",
    "    {\n",
    "        'role': 'Beneficiary',\n",
    "        'name': 'Ariel',\n",
    "        'age': 68,\n",
    "        'days_available': ['Tuesday', 'Thursday', 'Saturday'],\n",
    "        'availability': ['1600 - 2000'],\n",
    "        'goal': 'Elderly befriending',\n",
    "        'interests': ['chinese shows', 'sheng siong show', 'chinese chess'],\n",
    "        'languages': ['Mandarin']\n",
    "    },\n",
    "    {\n",
    "        'role': 'Volunteer',\n",
    "        'name': 'Johnathan',\n",
    "        'age': 23,\n",
    "        'gender': 'Male',\n",
    "        'preferences': 'No preferences',\n",
    "        'activities': 'Befriending with elderly',\n",
    "        'interests': ['sheng siong show', 'exercising', 'chess'],\n",
    "        'languages': ['English', 'Mandarin'],\n",
    "        'availability': {'Tuesday': ['1200 - 1600', '1600 - 2000'], 'Friday': ['1200 - 1600', '1600 - 2000'], 'Saturday': ['1200 - 1600', '1600 - 2000']}\n",
    "    },\n",
    "    # Add more individuals as needed\n",
    "]"
   ]
  },
  {
   "cell_type": "code",
   "execution_count": 17,
   "id": "c6445eb4",
   "metadata": {},
   "outputs": [
    {
     "name": "stdout",
     "output_type": "stream",
     "text": [
      "Kenneth Prajogo and Gong Yongjia do not have similar interests (similarity score: 0.00)\n"
     ]
    },
    {
     "ename": "KeyError",
     "evalue": "'interests'",
     "output_type": "error",
     "traceback": [
      "\u001b[1;31m---------------------------------------------------------------------------\u001b[0m",
      "\u001b[1;31mKeyError\u001b[0m                                  Traceback (most recent call last)",
      "Cell \u001b[1;32mIn[17], line 7\u001b[0m\n\u001b[0;32m      5\u001b[0m \u001b[38;5;28;01mfor\u001b[39;00m j \u001b[38;5;129;01min\u001b[39;00m \u001b[38;5;28mrange\u001b[39m(i \u001b[38;5;241m+\u001b[39m \u001b[38;5;241m1\u001b[39m, num_individuals):\n\u001b[0;32m      6\u001b[0m     name1, interests1 \u001b[38;5;241m=\u001b[39m individuals[i][\u001b[38;5;124m'\u001b[39m\u001b[38;5;124mname\u001b[39m\u001b[38;5;124m'\u001b[39m], individuals[i][\u001b[38;5;124m'\u001b[39m\u001b[38;5;124minterests\u001b[39m\u001b[38;5;124m'\u001b[39m]\n\u001b[1;32m----> 7\u001b[0m     name2, interests2 \u001b[38;5;241m=\u001b[39m individuals[j][\u001b[38;5;124m'\u001b[39m\u001b[38;5;124mname\u001b[39m\u001b[38;5;124m'\u001b[39m], individuals[j][\u001b[38;5;124m'\u001b[39m\u001b[38;5;124minterests\u001b[39m\u001b[38;5;124m'\u001b[39m]\n\u001b[0;32m      9\u001b[0m     \u001b[38;5;66;03m# Preprocess the interests\u001b[39;00m\n\u001b[0;32m     10\u001b[0m     tokens1 \u001b[38;5;241m=\u001b[39m preprocess_text(interests1)\n",
      "\u001b[1;31mKeyError\u001b[0m: 'interests'"
     ]
    }
   ],
   "source": []
  },
  {
   "cell_type": "code",
   "execution_count": 22,
   "id": "35516929",
   "metadata": {},
   "outputs": [
    {
     "ename": "AttributeError",
     "evalue": "'list' object has no attribute 'lower'",
     "output_type": "error",
     "traceback": [
      "\u001b[1;31m---------------------------------------------------------------------------\u001b[0m",
      "\u001b[1;31mAttributeError\u001b[0m                            Traceback (most recent call last)",
      "Cell \u001b[1;32mIn[22], line 7\u001b[0m\n\u001b[0;32m      4\u001b[0m name1, interests1 \u001b[38;5;241m=\u001b[39m individuals[i][\u001b[38;5;124m'\u001b[39m\u001b[38;5;124mname\u001b[39m\u001b[38;5;124m'\u001b[39m], individuals[i][\u001b[38;5;124m'\u001b[39m\u001b[38;5;124minterests\u001b[39m\u001b[38;5;124m'\u001b[39m]\n\u001b[0;32m      5\u001b[0m name2, interests2 \u001b[38;5;241m=\u001b[39m individuals[j][\u001b[38;5;124m'\u001b[39m\u001b[38;5;124mname\u001b[39m\u001b[38;5;124m'\u001b[39m], individuals[j][\u001b[38;5;124m'\u001b[39m\u001b[38;5;124minterests\u001b[39m\u001b[38;5;124m'\u001b[39m]\n\u001b[1;32m----> 7\u001b[0m similarity_score \u001b[38;5;241m=\u001b[39m calculate_similarity(preprocess_text(interests1), preprocess_text(interests2))\n\u001b[0;32m      9\u001b[0m \u001b[38;5;66;03m# Define a threshold for similarity\u001b[39;00m\n\u001b[0;32m     10\u001b[0m threshold \u001b[38;5;241m=\u001b[39m \u001b[38;5;241m0.8\u001b[39m\n",
      "Cell \u001b[1;32mIn[20], line 6\u001b[0m, in \u001b[0;36mcalculate_similarity\u001b[1;34m(interests1, interests2)\u001b[0m\n\u001b[0;32m      5\u001b[0m \u001b[38;5;28;01mdef\u001b[39;00m \u001b[38;5;21mcalculate_similarity\u001b[39m(interests1, interests2):\n\u001b[1;32m----> 6\u001b[0m     vectorizer \u001b[38;5;241m=\u001b[39m CountVectorizer()\u001b[38;5;241m.\u001b[39mfit_transform([interests1, interests2])\n\u001b[0;32m      7\u001b[0m     vectors \u001b[38;5;241m=\u001b[39m vectorizer\u001b[38;5;241m.\u001b[39mtoarray()\n\u001b[0;32m      8\u001b[0m     \u001b[38;5;28;01mreturn\u001b[39;00m cosine_similarity(vectors)[\u001b[38;5;241m0\u001b[39m, \u001b[38;5;241m1\u001b[39m]\n",
      "File \u001b[1;32m~\\anaconda3\\Lib\\site-packages\\sklearn\\base.py:1151\u001b[0m, in \u001b[0;36m_fit_context.<locals>.decorator.<locals>.wrapper\u001b[1;34m(estimator, *args, **kwargs)\u001b[0m\n\u001b[0;32m   1144\u001b[0m     estimator\u001b[38;5;241m.\u001b[39m_validate_params()\n\u001b[0;32m   1146\u001b[0m \u001b[38;5;28;01mwith\u001b[39;00m config_context(\n\u001b[0;32m   1147\u001b[0m     skip_parameter_validation\u001b[38;5;241m=\u001b[39m(\n\u001b[0;32m   1148\u001b[0m         prefer_skip_nested_validation \u001b[38;5;129;01mor\u001b[39;00m global_skip_validation\n\u001b[0;32m   1149\u001b[0m     )\n\u001b[0;32m   1150\u001b[0m ):\n\u001b[1;32m-> 1151\u001b[0m     \u001b[38;5;28;01mreturn\u001b[39;00m fit_method(estimator, \u001b[38;5;241m*\u001b[39margs, \u001b[38;5;241m*\u001b[39m\u001b[38;5;241m*\u001b[39mkwargs)\n",
      "File \u001b[1;32m~\\anaconda3\\Lib\\site-packages\\sklearn\\feature_extraction\\text.py:1383\u001b[0m, in \u001b[0;36mCountVectorizer.fit_transform\u001b[1;34m(self, raw_documents, y)\u001b[0m\n\u001b[0;32m   1375\u001b[0m             warnings\u001b[38;5;241m.\u001b[39mwarn(\n\u001b[0;32m   1376\u001b[0m                 \u001b[38;5;124m\"\u001b[39m\u001b[38;5;124mUpper case characters found in\u001b[39m\u001b[38;5;124m\"\u001b[39m\n\u001b[0;32m   1377\u001b[0m                 \u001b[38;5;124m\"\u001b[39m\u001b[38;5;124m vocabulary while \u001b[39m\u001b[38;5;124m'\u001b[39m\u001b[38;5;124mlowercase\u001b[39m\u001b[38;5;124m'\u001b[39m\u001b[38;5;124m\"\u001b[39m\n\u001b[0;32m   1378\u001b[0m                 \u001b[38;5;124m\"\u001b[39m\u001b[38;5;124m is True. These entries will not\u001b[39m\u001b[38;5;124m\"\u001b[39m\n\u001b[0;32m   1379\u001b[0m                 \u001b[38;5;124m\"\u001b[39m\u001b[38;5;124m be matched with any documents\u001b[39m\u001b[38;5;124m\"\u001b[39m\n\u001b[0;32m   1380\u001b[0m             )\n\u001b[0;32m   1381\u001b[0m             \u001b[38;5;28;01mbreak\u001b[39;00m\n\u001b[1;32m-> 1383\u001b[0m vocabulary, X \u001b[38;5;241m=\u001b[39m \u001b[38;5;28mself\u001b[39m\u001b[38;5;241m.\u001b[39m_count_vocab(raw_documents, \u001b[38;5;28mself\u001b[39m\u001b[38;5;241m.\u001b[39mfixed_vocabulary_)\n\u001b[0;32m   1385\u001b[0m \u001b[38;5;28;01mif\u001b[39;00m \u001b[38;5;28mself\u001b[39m\u001b[38;5;241m.\u001b[39mbinary:\n\u001b[0;32m   1386\u001b[0m     X\u001b[38;5;241m.\u001b[39mdata\u001b[38;5;241m.\u001b[39mfill(\u001b[38;5;241m1\u001b[39m)\n",
      "File \u001b[1;32m~\\anaconda3\\Lib\\site-packages\\sklearn\\feature_extraction\\text.py:1270\u001b[0m, in \u001b[0;36mCountVectorizer._count_vocab\u001b[1;34m(self, raw_documents, fixed_vocab)\u001b[0m\n\u001b[0;32m   1268\u001b[0m \u001b[38;5;28;01mfor\u001b[39;00m doc \u001b[38;5;129;01min\u001b[39;00m raw_documents:\n\u001b[0;32m   1269\u001b[0m     feature_counter \u001b[38;5;241m=\u001b[39m {}\n\u001b[1;32m-> 1270\u001b[0m     \u001b[38;5;28;01mfor\u001b[39;00m feature \u001b[38;5;129;01min\u001b[39;00m analyze(doc):\n\u001b[0;32m   1271\u001b[0m         \u001b[38;5;28;01mtry\u001b[39;00m:\n\u001b[0;32m   1272\u001b[0m             feature_idx \u001b[38;5;241m=\u001b[39m vocabulary[feature]\n",
      "File \u001b[1;32m~\\anaconda3\\Lib\\site-packages\\sklearn\\feature_extraction\\text.py:110\u001b[0m, in \u001b[0;36m_analyze\u001b[1;34m(doc, analyzer, tokenizer, ngrams, preprocessor, decoder, stop_words)\u001b[0m\n\u001b[0;32m    108\u001b[0m \u001b[38;5;28;01melse\u001b[39;00m:\n\u001b[0;32m    109\u001b[0m     \u001b[38;5;28;01mif\u001b[39;00m preprocessor \u001b[38;5;129;01mis\u001b[39;00m \u001b[38;5;129;01mnot\u001b[39;00m \u001b[38;5;28;01mNone\u001b[39;00m:\n\u001b[1;32m--> 110\u001b[0m         doc \u001b[38;5;241m=\u001b[39m preprocessor(doc)\n\u001b[0;32m    111\u001b[0m     \u001b[38;5;28;01mif\u001b[39;00m tokenizer \u001b[38;5;129;01mis\u001b[39;00m \u001b[38;5;129;01mnot\u001b[39;00m \u001b[38;5;28;01mNone\u001b[39;00m:\n\u001b[0;32m    112\u001b[0m         doc \u001b[38;5;241m=\u001b[39m tokenizer(doc)\n",
      "File \u001b[1;32m~\\anaconda3\\Lib\\site-packages\\sklearn\\feature_extraction\\text.py:68\u001b[0m, in \u001b[0;36m_preprocess\u001b[1;34m(doc, accent_function, lower)\u001b[0m\n\u001b[0;32m     49\u001b[0m \u001b[38;5;250m\u001b[39m\u001b[38;5;124;03m\"\"\"Chain together an optional series of text preprocessing steps to\u001b[39;00m\n\u001b[0;32m     50\u001b[0m \u001b[38;5;124;03mapply to a document.\u001b[39;00m\n\u001b[0;32m     51\u001b[0m \n\u001b[1;32m   (...)\u001b[0m\n\u001b[0;32m     65\u001b[0m \u001b[38;5;124;03m    preprocessed string\u001b[39;00m\n\u001b[0;32m     66\u001b[0m \u001b[38;5;124;03m\"\"\"\u001b[39;00m\n\u001b[0;32m     67\u001b[0m \u001b[38;5;28;01mif\u001b[39;00m lower:\n\u001b[1;32m---> 68\u001b[0m     doc \u001b[38;5;241m=\u001b[39m doc\u001b[38;5;241m.\u001b[39mlower()\n\u001b[0;32m     69\u001b[0m \u001b[38;5;28;01mif\u001b[39;00m accent_function \u001b[38;5;129;01mis\u001b[39;00m \u001b[38;5;129;01mnot\u001b[39;00m \u001b[38;5;28;01mNone\u001b[39;00m:\n\u001b[0;32m     70\u001b[0m     doc \u001b[38;5;241m=\u001b[39m accent_function(doc)\n",
      "\u001b[1;31mAttributeError\u001b[0m: 'list' object has no attribute 'lower'"
     ]
    }
   ],
   "source": [
    "# Iterate through pairs of individuals and calculate similarity\n",
    "for i in range(len(individuals)):\n",
    "    for j in range(i + 1, len(individuals)):\n",
    "        name1, interests1 = individuals[i]['name'], individuals[i]['interests']\n",
    "        name2, interests2 = individuals[j]['name'], individuals[j]['interests']\n",
    "\n",
    "        similarity_score = calculate_similarity(preprocess_text(interests1), preprocess_text(interests2))\n",
    "\n",
    "        # Define a threshold for similarity\n",
    "        threshold = 0.8\n",
    "        if similarity_score > threshold:\n",
    "            print(f'{name1} and {name2} have similar interests!')"
   ]
  }
 ],
 "metadata": {
  "kernelspec": {
   "display_name": "Python 3 (ipykernel)",
   "language": "python",
   "name": "python3"
  },
  "language_info": {
   "codemirror_mode": {
    "name": "ipython",
    "version": 3
   },
   "file_extension": ".py",
   "mimetype": "text/x-python",
   "name": "python",
   "nbconvert_exporter": "python",
   "pygments_lexer": "ipython3",
   "version": "3.11.5"
  }
 },
 "nbformat": 4,
 "nbformat_minor": 5
}
